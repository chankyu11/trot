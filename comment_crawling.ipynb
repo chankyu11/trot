{
 "cells": [
  {
   "cell_type": "code",
   "execution_count": 1,
   "metadata": {},
   "outputs": [],
   "source": [
    "import matplotlib.pyplot as plt\n",
    "from konlpy.tag import Hannanum\n",
    "from bs4 import BeautifulSoup\n",
    "import time\n",
    "from selenium.webdriver import Chrome\n",
    "from selenium.webdriver.common.keys import Keys\n",
    "import pandas as pd\n",
    "import re\n",
    "from collections import Counter\n",
    "from wordcloud import WordCloud\n",
    "# Expected chromedriver.exe"
   ]
  },
  {
   "cell_type": "code",
   "execution_count": 2,
   "metadata": {},
   "outputs": [
    {
     "name": "stdout",
     "output_type": "stream",
     "text": [
      "50\n"
     ]
    }
   ],
   "source": [
    "url = 'watch?v=tYF9EkTjYyM'\n",
    "url = 'https://www.youtube.com/'+url\n",
    "font_path_input = './NanumGothic.ttf'\n",
    "num_scroll = int(input())"
   ]
  },
  {
   "cell_type": "code",
   "execution_count": 3,
   "metadata": {},
   "outputs": [],
   "source": [
    "browser = Chrome()\n",
    "browser.get(url)\n",
    "browser.implicitly_wait(2)"
   ]
  },
  {
   "cell_type": "code",
   "execution_count": 4,
   "metadata": {},
   "outputs": [],
   "source": [
    "body = browser.find_element_by_tag_name('body')"
   ]
  },
  {
   "cell_type": "code",
   "execution_count": 5,
   "metadata": {},
   "outputs": [],
   "source": [
    "yt_id = []\n",
    "yt_content = []\n",
    "yt_likes = []"
   ]
  },
  {
   "cell_type": "code",
   "execution_count": 6,
   "metadata": {},
   "outputs": [],
   "source": [
    "while num_scroll:\n",
    "    body.send_keys(Keys.PAGE_DOWN)\n",
    "    time.sleep(0.3)\n",
    "    num_scroll -= 1"
   ]
  },
  {
   "cell_type": "code",
   "execution_count": 7,
   "metadata": {},
   "outputs": [],
   "source": [
    "html0 = browser.page_source\n",
    "html = BeautifulSoup(html0, 'lxml')\n",
    "\n",
    "youtube_user_IDs = html.select(\"div#header-author > a > span\")\n",
    "youtube_comments = html.select(\"yt-formatted-string#content-text\")\n",
    "comment_like = html.select(\"span#vote-count-left\")\n",
    "browser.close()"
   ]
  },
  {
   "cell_type": "code",
   "execution_count": 24,
   "metadata": {},
   "outputs": [],
   "source": [
    "for i in range(len(youtube_user_IDs)):\n",
    "    str_tmp = str(youtube_user_IDs[i].text)\n",
    "    \n",
    "    yt_id.append(str_tmp)\n",
    "\n",
    "    str_tmp = str(youtube_comments[i].text)\n",
    " \n",
    "    yt_content.append(str_tmp)\n",
    "    \n",
    "    str_tmp = str(comment_like[i].text)\n",
    "    yt_likes.append(str_tmp)\n",
    "    \n",
    "    "
   ]
  },
  {
   "cell_type": "code",
   "execution_count": 25,
   "metadata": {},
   "outputs": [],
   "source": [
    "df = pd.DataFrame({'id': yt_id, 'content': yt_content, 'likes': yt_likes})\n",
    "df.to_csv('youtube_crawling.csv', mode='w', encoding='utf-8-sig')"
   ]
  },
  {
   "cell_type": "code",
   "execution_count": 26,
   "metadata": {},
   "outputs": [],
   "source": [
    "data = pd.read_csv('./youtube_crawling.csv')"
   ]
  },
  {
   "cell_type": "code",
   "execution_count": 15,
   "metadata": {},
   "outputs": [
    {
     "data": {
      "text/html": [
       "<div>\n",
       "<style scoped>\n",
       "    .dataframe tbody tr th:only-of-type {\n",
       "        vertical-align: middle;\n",
       "    }\n",
       "\n",
       "    .dataframe tbody tr th {\n",
       "        vertical-align: top;\n",
       "    }\n",
       "\n",
       "    .dataframe thead th {\n",
       "        text-align: right;\n",
       "    }\n",
       "</style>\n",
       "<table border=\"1\" class=\"dataframe\">\n",
       "  <thead>\n",
       "    <tr style=\"text-align: right;\">\n",
       "      <th></th>\n",
       "      <th>Unnamed: 0</th>\n",
       "      <th>id</th>\n",
       "      <th>content</th>\n",
       "      <th>likes</th>\n",
       "    </tr>\n",
       "  </thead>\n",
       "  <tbody>\n",
       "    <tr>\n",
       "      <th>0</th>\n",
       "      <td>0</td>\n",
       "      <td>\\n            김민서\\n</td>\n",
       "      <td>0:07 진또배기\\n2:52 내 마음 별과 같이\\n6:27 울긴 왜 울어\\n9:42...</td>\n",
       "      <td>\\n    2.6천\\n</td>\n",
       "    </tr>\n",
       "    <tr>\n",
       "      <th>1</th>\n",
       "      <td>1</td>\n",
       "      <td>\\n            홍영숙\\n</td>\n",
       "      <td>딱풀 \\n세월지난  오늘 들었는데\\n이 노래가 이렇게나\\n멋진노래였나 싶으네요\\n노...</td>\n",
       "      <td>\\n    178\\n</td>\n",
       "    </tr>\n",
       "    <tr>\n",
       "      <th>2</th>\n",
       "      <td>2</td>\n",
       "      <td>\\n            정통트롯또\\n</td>\n",
       "      <td>이찬원님 미스터트롯 노래종합선물셑트~♡♡\\n들으면 들을수록 좋으니 볼륨을 더더더 올...</td>\n",
       "      <td>\\n    48\\n</td>\n",
       "    </tr>\n",
       "    <tr>\n",
       "      <th>3</th>\n",
       "      <td>3</td>\n",
       "      <td>\\n            praise *\\n</td>\n",
       "      <td>이험한 세상에 \\n하늘이 보내주신 선물이 아닌가 싶네요.\\n너무나 감사해 눈물이 납니다.</td>\n",
       "      <td>\\n    176\\n</td>\n",
       "    </tr>\n",
       "    <tr>\n",
       "      <th>4</th>\n",
       "      <td>4</td>\n",
       "      <td>\\n            조정우\\n</td>\n",
       "      <td>찬원씨   노래는   아무리 들어도  질리지않아요\\n하루종일   듣고또듣고   들어...</td>\n",
       "      <td>\\n    67\\n</td>\n",
       "    </tr>\n",
       "    <tr>\n",
       "      <th>...</th>\n",
       "      <td>...</td>\n",
       "      <td>...</td>\n",
       "      <td>...</td>\n",
       "      <td>...</td>\n",
       "    </tr>\n",
       "    <tr>\n",
       "      <th>315</th>\n",
       "      <td>315</td>\n",
       "      <td>SiEziNG Yiu</td>\n",
       "      <td>미트경연에서 부른노래 한번에 볼수있어 너무좋아요 지금다시들어보니 새롭고 신선하고 그...</td>\n",
       "      <td>\\n    17\\n</td>\n",
       "    </tr>\n",
       "    <tr>\n",
       "      <th>316</th>\n",
       "      <td>316</td>\n",
       "      <td>정금자</td>\n",
       "      <td>역시이찬원님.,,우울증도모두다날려버렸답니다.감사그리고응원또화이팅</td>\n",
       "      <td>\\n    24\\n</td>\n",
       "    </tr>\n",
       "    <tr>\n",
       "      <th>317</th>\n",
       "      <td>317</td>\n",
       "      <td>정선환</td>\n",
       "      <td>찬원님의 목소리는 시원하며 따뜻하면서 마음의 감정을 정돈시킵니다!너무!~ 좋습니다!...</td>\n",
       "      <td>\\n    28\\n</td>\n",
       "    </tr>\n",
       "    <tr>\n",
       "      <th>318</th>\n",
       "      <td>318</td>\n",
       "      <td>김혜란</td>\n",
       "      <td>이찬원님 명품보이스 황금의 목소리 이찬원님 응원합니다 이찬원님 최고 최고입니다</td>\n",
       "      <td>\\n    11\\n</td>\n",
       "    </tr>\n",
       "    <tr>\n",
       "      <th>319</th>\n",
       "      <td>319</td>\n",
       "      <td>블루사파이어2463</td>\n",
       "      <td>이찬원 🤵혹시 🇰🇷멜론 가입 하신분음원 조회수 많이 해주세요🇰🇷하루에 한두번만이라도...</td>\n",
       "      <td>\\n    213\\n</td>\n",
       "    </tr>\n",
       "  </tbody>\n",
       "</table>\n",
       "<p>320 rows × 4 columns</p>\n",
       "</div>"
      ],
      "text/plain": [
       "     Unnamed: 0                                  id  \\\n",
       "0             0       \\n            김민서\\n             \n",
       "1             1       \\n            홍영숙\\n             \n",
       "2             2     \\n            정통트롯또\\n             \n",
       "3             3  \\n            praise *\\n             \n",
       "4             4       \\n            조정우\\n             \n",
       "..          ...                                 ...   \n",
       "315         315                        SiEziNG Yiu    \n",
       "316         316                                정금자    \n",
       "317         317                                정선환    \n",
       "318         318                                김혜란    \n",
       "319         319                         블루사파이어2463    \n",
       "\n",
       "                                               content           likes  \n",
       "0    0:07 진또배기\\n2:52 내 마음 별과 같이\\n6:27 울긴 왜 울어\\n9:42...  \\n    2.6천\\n    \n",
       "1    딱풀 \\n세월지난  오늘 들었는데\\n이 노래가 이렇게나\\n멋진노래였나 싶으네요\\n노...   \\n    178\\n    \n",
       "2    이찬원님 미스터트롯 노래종합선물셑트~♡♡\\n들으면 들을수록 좋으니 볼륨을 더더더 올...    \\n    48\\n    \n",
       "3    이험한 세상에 \\n하늘이 보내주신 선물이 아닌가 싶네요.\\n너무나 감사해 눈물이 납니다.   \\n    176\\n    \n",
       "4    찬원씨   노래는   아무리 들어도  질리지않아요\\n하루종일   듣고또듣고   들어...    \\n    67\\n    \n",
       "..                                                 ...             ...  \n",
       "315  미트경연에서 부른노래 한번에 볼수있어 너무좋아요 지금다시들어보니 새롭고 신선하고 그...    \\n    17\\n    \n",
       "316                역시이찬원님.,,우울증도모두다날려버렸답니다.감사그리고응원또화이팅    \\n    24\\n    \n",
       "317  찬원님의 목소리는 시원하며 따뜻하면서 마음의 감정을 정돈시킵니다!너무!~ 좋습니다!...    \\n    28\\n    \n",
       "318        이찬원님 명품보이스 황금의 목소리 이찬원님 응원합니다 이찬원님 최고 최고입니다    \\n    11\\n    \n",
       "319  이찬원 🤵혹시 🇰🇷멜론 가입 하신분음원 조회수 많이 해주세요🇰🇷하루에 한두번만이라도...   \\n    213\\n    \n",
       "\n",
       "[320 rows x 4 columns]"
      ]
     },
     "execution_count": 15,
     "metadata": {},
     "output_type": "execute_result"
    }
   ],
   "source": [
    "data"
   ]
  }
 ],
 "metadata": {
  "kernelspec": {
   "display_name": "Python 3",
   "language": "python",
   "name": "python3"
  },
  "language_info": {
   "codemirror_mode": {
    "name": "ipython",
    "version": 3
   },
   "file_extension": ".py",
   "mimetype": "text/x-python",
   "name": "python",
   "nbconvert_exporter": "python",
   "pygments_lexer": "ipython3",
   "version": "3.7.0"
  }
 },
 "nbformat": 4,
 "nbformat_minor": 4
}
